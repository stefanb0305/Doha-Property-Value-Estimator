{
 "cells": [
  {
   "cell_type": "markdown",
   "metadata": {},
   "source": [
    "# The QuAM"
   ]
  },
  {
   "cell_type": "markdown",
   "metadata": {},
   "source": [
    "#### We return to our question: Can we predict the pricing of a property, given different information about it?\n",
    "In other words, given feature values x<sub>1</sub>, x<sub>2</sub>, ..., x<sub>n</sub>, can we find some relation \n",
    "y = w<sub>0</sub> + w<sub>1</sub>\\*x<sub>1</sub> + ... + w<sub>n</sub>\\*x<sub>n</sub> ?\n",
    "\n",
    "We carry out different classification tests on our data. We will run through a couple different classifiers and see which is best suited for the data."
   ]
  },
  {
   "cell_type": "code",
   "execution_count": 1,
   "metadata": {},
   "outputs": [
    {
     "data": {
      "text/html": [
       "<div>\n",
       "<style scoped>\n",
       "    .dataframe tbody tr th:only-of-type {\n",
       "        vertical-align: middle;\n",
       "    }\n",
       "\n",
       "    .dataframe tbody tr th {\n",
       "        vertical-align: top;\n",
       "    }\n",
       "\n",
       "    .dataframe thead th {\n",
       "        text-align: right;\n",
       "    }\n",
       "</style>\n",
       "<table border=\"1\" class=\"dataframe\">\n",
       "  <thead>\n",
       "    <tr style=\"text-align: right;\">\n",
       "      <th></th>\n",
       "      <th>Size</th>\n",
       "      <th>Bedrooms</th>\n",
       "      <th>Bathrooms</th>\n",
       "      <th>Nr of amenities</th>\n",
       "      <th>Balcony</th>\n",
       "      <th>Built in Wardrobes</th>\n",
       "      <th>Maids Room</th>\n",
       "      <th>Private Garden</th>\n",
       "      <th>Type_Apartment</th>\n",
       "      <th>Type_Compound</th>\n",
       "      <th>...</th>\n",
       "      <th>Location_Salwa Road</th>\n",
       "      <th>Location_The Pearl</th>\n",
       "      <th>Location_Umm Al Seneem</th>\n",
       "      <th>Location_Umm Ghuwailina</th>\n",
       "      <th>Location_Umm Salal Ali</th>\n",
       "      <th>Location_Umm Salal Mohammad</th>\n",
       "      <th>Location_Wadi Al Sail</th>\n",
       "      <th>Location_West Bay</th>\n",
       "      <th>Location_West Bay Lagoon</th>\n",
       "      <th>Value</th>\n",
       "    </tr>\n",
       "  </thead>\n",
       "  <tbody>\n",
       "    <tr>\n",
       "      <th>0</th>\n",
       "      <td>60.0</td>\n",
       "      <td>1</td>\n",
       "      <td>1</td>\n",
       "      <td>8</td>\n",
       "      <td>0</td>\n",
       "      <td>0</td>\n",
       "      <td>0</td>\n",
       "      <td>0</td>\n",
       "      <td>1</td>\n",
       "      <td>0</td>\n",
       "      <td>...</td>\n",
       "      <td>0</td>\n",
       "      <td>1</td>\n",
       "      <td>0</td>\n",
       "      <td>0</td>\n",
       "      <td>0</td>\n",
       "      <td>0</td>\n",
       "      <td>0</td>\n",
       "      <td>0</td>\n",
       "      <td>0</td>\n",
       "      <td>6500.0</td>\n",
       "    </tr>\n",
       "    <tr>\n",
       "      <th>1</th>\n",
       "      <td>62.0</td>\n",
       "      <td>1</td>\n",
       "      <td>1</td>\n",
       "      <td>8</td>\n",
       "      <td>0</td>\n",
       "      <td>0</td>\n",
       "      <td>0</td>\n",
       "      <td>0</td>\n",
       "      <td>1</td>\n",
       "      <td>0</td>\n",
       "      <td>...</td>\n",
       "      <td>0</td>\n",
       "      <td>0</td>\n",
       "      <td>0</td>\n",
       "      <td>0</td>\n",
       "      <td>0</td>\n",
       "      <td>0</td>\n",
       "      <td>0</td>\n",
       "      <td>1</td>\n",
       "      <td>0</td>\n",
       "      <td>7000.0</td>\n",
       "    </tr>\n",
       "    <tr>\n",
       "      <th>2</th>\n",
       "      <td>60.0</td>\n",
       "      <td>1</td>\n",
       "      <td>1</td>\n",
       "      <td>9</td>\n",
       "      <td>1</td>\n",
       "      <td>0</td>\n",
       "      <td>0</td>\n",
       "      <td>0</td>\n",
       "      <td>1</td>\n",
       "      <td>0</td>\n",
       "      <td>...</td>\n",
       "      <td>0</td>\n",
       "      <td>1</td>\n",
       "      <td>0</td>\n",
       "      <td>0</td>\n",
       "      <td>0</td>\n",
       "      <td>0</td>\n",
       "      <td>0</td>\n",
       "      <td>0</td>\n",
       "      <td>0</td>\n",
       "      <td>6700.0</td>\n",
       "    </tr>\n",
       "    <tr>\n",
       "      <th>3</th>\n",
       "      <td>61.0</td>\n",
       "      <td>1</td>\n",
       "      <td>1</td>\n",
       "      <td>10</td>\n",
       "      <td>1</td>\n",
       "      <td>1</td>\n",
       "      <td>0</td>\n",
       "      <td>0</td>\n",
       "      <td>1</td>\n",
       "      <td>0</td>\n",
       "      <td>...</td>\n",
       "      <td>0</td>\n",
       "      <td>1</td>\n",
       "      <td>0</td>\n",
       "      <td>0</td>\n",
       "      <td>0</td>\n",
       "      <td>0</td>\n",
       "      <td>0</td>\n",
       "      <td>0</td>\n",
       "      <td>0</td>\n",
       "      <td>6500.0</td>\n",
       "    </tr>\n",
       "    <tr>\n",
       "      <th>4</th>\n",
       "      <td>60.0</td>\n",
       "      <td>1</td>\n",
       "      <td>1</td>\n",
       "      <td>10</td>\n",
       "      <td>0</td>\n",
       "      <td>1</td>\n",
       "      <td>0</td>\n",
       "      <td>0</td>\n",
       "      <td>1</td>\n",
       "      <td>0</td>\n",
       "      <td>...</td>\n",
       "      <td>0</td>\n",
       "      <td>0</td>\n",
       "      <td>0</td>\n",
       "      <td>0</td>\n",
       "      <td>0</td>\n",
       "      <td>0</td>\n",
       "      <td>0</td>\n",
       "      <td>1</td>\n",
       "      <td>0</td>\n",
       "      <td>7500.0</td>\n",
       "    </tr>\n",
       "    <tr>\n",
       "      <th>...</th>\n",
       "      <td>...</td>\n",
       "      <td>...</td>\n",
       "      <td>...</td>\n",
       "      <td>...</td>\n",
       "      <td>...</td>\n",
       "      <td>...</td>\n",
       "      <td>...</td>\n",
       "      <td>...</td>\n",
       "      <td>...</td>\n",
       "      <td>...</td>\n",
       "      <td>...</td>\n",
       "      <td>...</td>\n",
       "      <td>...</td>\n",
       "      <td>...</td>\n",
       "      <td>...</td>\n",
       "      <td>...</td>\n",
       "      <td>...</td>\n",
       "      <td>...</td>\n",
       "      <td>...</td>\n",
       "      <td>...</td>\n",
       "      <td>...</td>\n",
       "    </tr>\n",
       "    <tr>\n",
       "      <th>6575</th>\n",
       "      <td>700.0</td>\n",
       "      <td>9</td>\n",
       "      <td>7</td>\n",
       "      <td>1</td>\n",
       "      <td>0</td>\n",
       "      <td>0</td>\n",
       "      <td>1</td>\n",
       "      <td>0</td>\n",
       "      <td>0</td>\n",
       "      <td>0</td>\n",
       "      <td>...</td>\n",
       "      <td>0</td>\n",
       "      <td>0</td>\n",
       "      <td>0</td>\n",
       "      <td>0</td>\n",
       "      <td>0</td>\n",
       "      <td>0</td>\n",
       "      <td>0</td>\n",
       "      <td>0</td>\n",
       "      <td>0</td>\n",
       "      <td>35000.0</td>\n",
       "    </tr>\n",
       "    <tr>\n",
       "      <th>6576</th>\n",
       "      <td>680.0</td>\n",
       "      <td>8</td>\n",
       "      <td>6</td>\n",
       "      <td>2</td>\n",
       "      <td>1</td>\n",
       "      <td>0</td>\n",
       "      <td>0</td>\n",
       "      <td>0</td>\n",
       "      <td>0</td>\n",
       "      <td>0</td>\n",
       "      <td>...</td>\n",
       "      <td>0</td>\n",
       "      <td>0</td>\n",
       "      <td>0</td>\n",
       "      <td>0</td>\n",
       "      <td>0</td>\n",
       "      <td>0</td>\n",
       "      <td>0</td>\n",
       "      <td>0</td>\n",
       "      <td>0</td>\n",
       "      <td>30000.0</td>\n",
       "    </tr>\n",
       "    <tr>\n",
       "      <th>6577</th>\n",
       "      <td>400.0</td>\n",
       "      <td>8</td>\n",
       "      <td>7</td>\n",
       "      <td>5</td>\n",
       "      <td>1</td>\n",
       "      <td>1</td>\n",
       "      <td>1</td>\n",
       "      <td>0</td>\n",
       "      <td>0</td>\n",
       "      <td>0</td>\n",
       "      <td>...</td>\n",
       "      <td>0</td>\n",
       "      <td>0</td>\n",
       "      <td>0</td>\n",
       "      <td>0</td>\n",
       "      <td>0</td>\n",
       "      <td>0</td>\n",
       "      <td>0</td>\n",
       "      <td>0</td>\n",
       "      <td>0</td>\n",
       "      <td>15000.0</td>\n",
       "    </tr>\n",
       "    <tr>\n",
       "      <th>6578</th>\n",
       "      <td>375.0</td>\n",
       "      <td>8</td>\n",
       "      <td>8</td>\n",
       "      <td>5</td>\n",
       "      <td>1</td>\n",
       "      <td>0</td>\n",
       "      <td>1</td>\n",
       "      <td>1</td>\n",
       "      <td>0</td>\n",
       "      <td>0</td>\n",
       "      <td>...</td>\n",
       "      <td>0</td>\n",
       "      <td>0</td>\n",
       "      <td>0</td>\n",
       "      <td>0</td>\n",
       "      <td>0</td>\n",
       "      <td>0</td>\n",
       "      <td>0</td>\n",
       "      <td>0</td>\n",
       "      <td>0</td>\n",
       "      <td>18000.0</td>\n",
       "    </tr>\n",
       "    <tr>\n",
       "      <th>6579</th>\n",
       "      <td>350.0</td>\n",
       "      <td>9</td>\n",
       "      <td>8</td>\n",
       "      <td>5</td>\n",
       "      <td>1</td>\n",
       "      <td>0</td>\n",
       "      <td>1</td>\n",
       "      <td>1</td>\n",
       "      <td>0</td>\n",
       "      <td>0</td>\n",
       "      <td>...</td>\n",
       "      <td>0</td>\n",
       "      <td>0</td>\n",
       "      <td>0</td>\n",
       "      <td>0</td>\n",
       "      <td>0</td>\n",
       "      <td>0</td>\n",
       "      <td>0</td>\n",
       "      <td>0</td>\n",
       "      <td>0</td>\n",
       "      <td>22000.0</td>\n",
       "    </tr>\n",
       "  </tbody>\n",
       "</table>\n",
       "<p>6580 rows × 89 columns</p>\n",
       "</div>"
      ],
      "text/plain": [
       "       Size  Bedrooms  Bathrooms  Nr of amenities  Balcony  \\\n",
       "0      60.0         1          1                8        0   \n",
       "1      62.0         1          1                8        0   \n",
       "2      60.0         1          1                9        1   \n",
       "3      61.0         1          1               10        1   \n",
       "4      60.0         1          1               10        0   \n",
       "...     ...       ...        ...              ...      ...   \n",
       "6575  700.0         9          7                1        0   \n",
       "6576  680.0         8          6                2        1   \n",
       "6577  400.0         8          7                5        1   \n",
       "6578  375.0         8          8                5        1   \n",
       "6579  350.0         9          8                5        1   \n",
       "\n",
       "      Built in Wardrobes  Maids Room  Private Garden  Type_Apartment  \\\n",
       "0                      0           0               0               1   \n",
       "1                      0           0               0               1   \n",
       "2                      0           0               0               1   \n",
       "3                      1           0               0               1   \n",
       "4                      1           0               0               1   \n",
       "...                  ...         ...             ...             ...   \n",
       "6575                   0           1               0               0   \n",
       "6576                   0           0               0               0   \n",
       "6577                   1           1               0               0   \n",
       "6578                   0           1               1               0   \n",
       "6579                   0           1               1               0   \n",
       "\n",
       "      Type_Compound  ...  Location_Salwa Road  Location_The Pearl  \\\n",
       "0                 0  ...                    0                   1   \n",
       "1                 0  ...                    0                   0   \n",
       "2                 0  ...                    0                   1   \n",
       "3                 0  ...                    0                   1   \n",
       "4                 0  ...                    0                   0   \n",
       "...             ...  ...                  ...                 ...   \n",
       "6575              0  ...                    0                   0   \n",
       "6576              0  ...                    0                   0   \n",
       "6577              0  ...                    0                   0   \n",
       "6578              0  ...                    0                   0   \n",
       "6579              0  ...                    0                   0   \n",
       "\n",
       "      Location_Umm Al Seneem  Location_Umm Ghuwailina  Location_Umm Salal Ali  \\\n",
       "0                          0                        0                       0   \n",
       "1                          0                        0                       0   \n",
       "2                          0                        0                       0   \n",
       "3                          0                        0                       0   \n",
       "4                          0                        0                       0   \n",
       "...                      ...                      ...                     ...   \n",
       "6575                       0                        0                       0   \n",
       "6576                       0                        0                       0   \n",
       "6577                       0                        0                       0   \n",
       "6578                       0                        0                       0   \n",
       "6579                       0                        0                       0   \n",
       "\n",
       "      Location_Umm Salal Mohammad  Location_Wadi Al Sail  Location_West Bay  \\\n",
       "0                               0                      0                  0   \n",
       "1                               0                      0                  1   \n",
       "2                               0                      0                  0   \n",
       "3                               0                      0                  0   \n",
       "4                               0                      0                  1   \n",
       "...                           ...                    ...                ...   \n",
       "6575                            0                      0                  0   \n",
       "6576                            0                      0                  0   \n",
       "6577                            0                      0                  0   \n",
       "6578                            0                      0                  0   \n",
       "6579                            0                      0                  0   \n",
       "\n",
       "      Location_West Bay Lagoon    Value  \n",
       "0                            0   6500.0  \n",
       "1                            0   7000.0  \n",
       "2                            0   6700.0  \n",
       "3                            0   6500.0  \n",
       "4                            0   7500.0  \n",
       "...                        ...      ...  \n",
       "6575                         0  35000.0  \n",
       "6576                         0  30000.0  \n",
       "6577                         0  15000.0  \n",
       "6578                         0  18000.0  \n",
       "6579                         0  22000.0  \n",
       "\n",
       "[6580 rows x 89 columns]"
      ]
     },
     "execution_count": 1,
     "metadata": {},
     "output_type": "execute_result"
    }
   ],
   "source": [
    "# Reading in the csv file\n",
    "\n",
    "import pandas as pd\n",
    "\n",
    "data = pd.read_csv(\"data_clean.csv\")\n",
    "\n",
    "features = data.iloc[:, 0:-1]\n",
    "targets = data.iloc[:, -1]\n",
    "\n",
    "data"
   ]
  },
  {
   "cell_type": "markdown",
   "metadata": {},
   "source": [
    "## Process Iterations"
   ]
  },
  {
   "cell_type": "markdown",
   "metadata": {},
   "source": [
    "### First Iteration: Linear Regression"
   ]
  },
  {
   "cell_type": "markdown",
   "metadata": {},
   "source": [
    "#### Solution justification\n",
    "\n",
    "We assume that some linear relationship between the features exists, and begin with a basic learning algorithm, namely Linear Regression. Based on its accuracy in prediction and finding a linear relationship between the variables, we determine whether this is a good solution and continue accordingly.  \n",
    "\n",
    "(All **Solution Details** to be found as comments within the code)"
   ]
  },
  {
   "cell_type": "code",
   "execution_count": 2,
   "metadata": {},
   "outputs": [],
   "source": [
    "# Splitting data into training and testing\n",
    "\n",
    "from sklearn.model_selection import train_test_split\n",
    "\n",
    "features = features\n",
    "targets = targets\n",
    "\n",
    "# We split the data into 25% for testing and 75% for training,\n",
    "# for a good ratio between learning and testing\n",
    "test_size = 0.25\n",
    "\n",
    "# Splitting the data into training and testing\n",
    "X_train, X_test, Y_train, Y_test = train_test_split(features.values, \n",
    "                                                    targets.values, \n",
    "                                                    test_size=test_size,\n",
    "                                                    random_state=99)"
   ]
  },
  {
   "cell_type": "code",
   "execution_count": 3,
   "metadata": {},
   "outputs": [
    {
     "name": "stdout",
     "output_type": "stream",
     "text": [
      "Root Mean squared error = 4750.12\n",
      "R2 score on train = 0.5837615311767284\n",
      "R2 score on test = 0.5453961995206947\n"
     ]
    }
   ],
   "source": [
    "# Training the Linear model\n",
    "\n",
    "from sklearn.linear_model import LinearRegression\n",
    "import sklearn.metrics as sm\n",
    "import numpy as np\n",
    "\n",
    "# Fitting and predicting on the model\n",
    "regressor = LinearRegression()  \n",
    "regressor.fit(X_train, Y_train) \n",
    "Y_pred = regressor.predict(X_test)\n",
    "\n",
    "# Measuring the accuracy of the model\n",
    "linear_train_acc = regressor.score(X_train, Y_train)\n",
    "linear_test_acc = regressor.score(X_test, Y_test)\n",
    "\n",
    "print(\"Root Mean squared error =\", round(np.sqrt(sm.mean_squared_error(Y_test, Y_pred)), 2)) \n",
    "print(\"R2 score on train =\", linear_train_acc)\n",
    "print(\"R2 score on test =\", linear_test_acc)"
   ]
  },
  {
   "cell_type": "markdown",
   "metadata": {},
   "source": [
    "#### Lessons Learned  \n",
    "\n",
    "Results obtained:\n",
    "- R2 score for train: ~0.6\n",
    "- R2 score for test: ~0.55\n",
    "- RMSE: ~4754\n",
    "\n",
    "These results tell us that around 60% of the variation in the labels can be predicted by the model. We can see this in the plot used above.  \n",
    "This is indeed the majority of the labels, but perhaps - using a more complex model - we can do better than 60%."
   ]
  },
  {
   "cell_type": "markdown",
   "metadata": {},
   "source": [
    "### Second Iteration: Polynomial Regression"
   ]
  },
  {
   "cell_type": "markdown",
   "metadata": {},
   "source": [
    "#### Solution Justification\n",
    "\n",
    "We see that the coefficient of determination returned could be improved upon. To do this, we try a polynomial regression model. Polynomial Regression is a form of linear regression in which the relationship between the independent variable x and dependent variable y is modeled as an nth degree polynomial. We think this might be a better approach than linear regression because our feature's values vary a lot (sqm (size) vs nr of bedrooms vs bool for maids room).\n",
    "\n",
    "(All **Solution Details** to be found as comments within the code)"
   ]
  },
  {
   "cell_type": "code",
   "execution_count": 4,
   "metadata": {},
   "outputs": [
    {
     "name": "stdout",
     "output_type": "stream",
     "text": [
      "\n",
      "Poly with degree 2\n",
      "Root Mean squared error = 58718000689.77\n",
      "R2 score on train = 0.697\n",
      "R2 score on test = -69465066127035.328\n"
     ]
    }
   ],
   "source": [
    "# Training the Polynomial model\n",
    "\n",
    "from sklearn.preprocessing import PolynomialFeatures\n",
    "\n",
    "# We use degree=2 because any higher degree was not able to run on our machines (huge nr of features)\n",
    "d = 2\n",
    "\n",
    "# Fitting the polynomial features\n",
    "poly = PolynomialFeatures(degree=d)\n",
    "X_poly = poly.fit_transform(features) \n",
    "\n",
    "# Splitting the new polynomial features into training and testing\n",
    "X_train, X_test, Y_train, Y_test = train_test_split(X_poly, \n",
    "                                                targets.values, \n",
    "                                                test_size=test_size,\n",
    "                                                random_state=99)\n",
    "\n",
    "# Fitting and Predicting on the new data\n",
    "poly.fit(X_train, Y_train) \n",
    "lin2 = LinearRegression() \n",
    "lin2.fit(X_train, Y_train)\n",
    "Y_pred = lin2.predict(X_test)\n",
    "\n",
    "# Measuring the accuracy of the model\n",
    "poly_train_acc = lin2.score(X_train, Y_train)\n",
    "poly_test_acc = lin2.score(X_test, Y_test)\n",
    "\n",
    "print(\"\\nPoly with degree\", d)\n",
    "print(\"Root Mean squared error =\", round(np.sqrt(sm.mean_squared_error(Y_test, Y_pred)), 2)) \n",
    "print(\"R2 score on train = {:.3f}\".format(poly_train_acc))\n",
    "print(\"R2 score on test = {:.3f}\".format(poly_test_acc))"
   ]
  },
  {
   "cell_type": "markdown",
   "metadata": {},
   "source": [
    "#### Lessons Learned  \n",
    "\n",
    "Best result obtained:\n",
    "- R2 score for train: ~0.7\n",
    "- (R2 score for test: ~-69465066127035)\n",
    "- RMSE: ~58718000690\n",
    "\n",
    "These results tell us that our model can predict the training data with an ccuracy of 70%, but we see that the testing data does not do well at all.\n",
    "This was a better approach than a simple linear regression model for the training data, however we are still not at a great accuracy. We think that a more complex model, that could filter through features e.g. Decision Tree model more useful."
   ]
  },
  {
   "cell_type": "markdown",
   "metadata": {},
   "source": [
    "### Third Iteration: Decision Tree Regression"
   ]
  },
  {
   "cell_type": "markdown",
   "metadata": {},
   "source": [
    "#### Solution Justification\n",
    "\n",
    "To improve our accuracy we will try an approach with Decision Trees. Decision Trees (DTs) are a non-parametric supervised learning method used for classification and regression. The goal is to create a model that predicts the value of a target variable by learning simple decision rules inferred from the data features. This seems like a good solution for us because we have many features and we think that some of the features values really determine the target's range, therefore a tree with decision splits dependent on the features would be smart. \n",
    "<linebreak/>\n",
    "\n",
    "\n",
    "#### Solution Details\n",
    "\n",
    "We chose to not limit the max_depth _at first_."
   ]
  },
  {
   "cell_type": "code",
   "execution_count": 5,
   "metadata": {},
   "outputs": [],
   "source": [
    "# We split the data into 25% for testing and 75% for training,\n",
    "# for a good ratio between learning and testing\n",
    "test_size = 0.25\n",
    "\n",
    "# Splitting the data into training and testing\n",
    "X_train, X_test, Y_train, Y_test = train_test_split(features.values, \n",
    "                                                    targets.values, \n",
    "                                                    test_size=test_size,\n",
    "                                                    random_state=99)"
   ]
  },
  {
   "cell_type": "code",
   "execution_count": 6,
   "metadata": {},
   "outputs": [
    {
     "name": "stdout",
     "output_type": "stream",
     "text": [
      "\n",
      "DT with unbounded max depth\n",
      "Root Mean squared error = 5897.4\n",
      "R2 score on train = 0.9969819269210263\n",
      "R2 score on train = 0.2992796363876601\n"
     ]
    }
   ],
   "source": [
    "# Training the DT model\n",
    "\n",
    "from sklearn.tree import DecisionTreeRegressor\n",
    "\n",
    "# Fitting the DT model\n",
    "tree = DecisionTreeRegressor()\n",
    "tree.fit(X_train, Y_train)\n",
    "\n",
    "Y_pred = tree.predict(X_test)\n",
    "print(\"\\nDT with unbounded max depth\")\n",
    "print(\"Root Mean squared error =\", round(np.sqrt(sm.mean_squared_error(Y_test, Y_pred)), 2)) \n",
    "print(\"R2 score on train =\", tree.score(X_train, Y_train)) \n",
    "print(\"R2 score on train =\", tree.score(X_test, Y_test))"
   ]
  },
  {
   "cell_type": "markdown",
   "metadata": {},
   "source": [
    "**Are we overfitting?**"
   ]
  },
  {
   "cell_type": "code",
   "execution_count": 7,
   "metadata": {
    "scrolled": true
   },
   "outputs": [
    {
     "name": "stdout",
     "output_type": "stream",
     "text": [
      "Number of leaves / labels in the DT: 3229\n"
     ]
    }
   ],
   "source": [
    "n_labels = tree.get_n_leaves()\n",
    "print('Number of leaves / labels in the DT: {}'.format(n_labels))"
   ]
  },
  {
   "cell_type": "code",
   "execution_count": 8,
   "metadata": {},
   "outputs": [],
   "source": [
    "import matplotlib.pyplot as plt"
   ]
  },
  {
   "cell_type": "code",
   "execution_count": 9,
   "metadata": {},
   "outputs": [
    {
     "data": {
      "image/png": "[encoded data removed]",
      "text/plain": [
       "<Figure size 1440x1080 with 1 Axes>"
      ]
     },
     "metadata": {
      "needs_background": "light"
     },
     "output_type": "display_data"
    }
   ],
   "source": [
    "tree_training_accuracies = []\n",
    "tree_test_accuracies = []\n",
    "\n",
    "max_depth = list(range(1,16))\n",
    "max_depth.append(None)\n",
    "for d in max_depth:\n",
    "    tree = DecisionTreeRegressor(max_depth=d)\n",
    "    tree.fit(X_train, Y_train)\n",
    "    Y_pred = tree.predict(X_test)\n",
    "    acc_train = tree.score(X_train, Y_train)\n",
    "    acc_test = tree.score(X_test, Y_test)\n",
    "    tree_training_accuracies.append(acc_train)\n",
    "    tree_test_accuracies.append(acc_test)\n",
    "\n",
    "fig = plt.figure('ref', figsize=(20, 15))\n",
    "data_plt = fig.add_subplot(1,1,1)\n",
    "\n",
    "data_plt.plot(max_depth, tree_training_accuracies)\n",
    "data_plt.scatter(max_depth, tree_training_accuracies, c='red', s=100)\n",
    "\n",
    "data_plt.set_xlabel('Max Depth')\n",
    "data_plt.set_ylabel('R2 Score')\n",
    "data_plt.set_title('Accuracy Scores')\n",
    "\n",
    "data_plt.plot(max_depth, tree_test_accuracies)\n",
    "data_plt.scatter(max_depth, tree_test_accuracies, c='yellow', s=100)\n",
    "\n",
    "plt.show()"
   ]
  },
  {
   "cell_type": "markdown",
   "metadata": {},
   "source": [
    "As we can see from this graph above, the high/unbounded max depth values give the training data a perfect accuracy, however our testing data does not do very well then (which means we did overfit when training the model with anunbounded depth). So, we see that the best accuracy score for testing is at max depths of 5 or 6 - where the R2 score is  ~0.5 - so we should choose those as max depths for a general model."
   ]
  },
  {
   "cell_type": "code",
   "execution_count": 10,
   "metadata": {},
   "outputs": [
    {
     "name": "stdout",
     "output_type": "stream",
     "text": [
      "Best R2 score on train = 0.7407029086033885\n",
      "Best R2 score on test = 0.4570987734425682\n"
     ]
    }
   ],
   "source": [
    "tree_train_acc = tree_training_accuracies[6]\n",
    "tree_test_acc = tree_test_accuracies[6]\n",
    "\n",
    "print(\"Best R2 score on train =\", tree_train_acc) \n",
    "print(\"Best R2 score on test =\", tree_test_acc)"
   ]
  },
  {
   "cell_type": "markdown",
   "metadata": {},
   "source": [
    "#### Lessons Learned  \n",
    "\n",
    "Best result obtained:\n",
    "- R2 score for train: ~0.75\n",
    "- R2 score for test: ~0.45\n",
    "\n",
    "These results tell us that even with the optimal depth for a generalized DT regression model, this one is doing worse at predicting the targets than a simple Linear Regression model."
   ]
  },
  {
   "cell_type": "markdown",
   "metadata": {},
   "source": [
    "## Summary"
   ]
  },
  {
   "cell_type": "code",
   "execution_count": 11,
   "metadata": {},
   "outputs": [
    {
     "data": {
      "image/png": "[encoded data removed]",
      "text/plain": [
       "<Figure size 1800x576 with 3 Axes>"
      ]
     },
     "metadata": {
      "needs_background": "light"
     },
     "output_type": "display_data"
    }
   ],
   "source": [
    "training_accuracies = [linear_train_acc, poly_train_acc, tree_train_acc]\n",
    "test_accuracies = [linear_test_acc, poly_test_acc, tree_test_acc]\n",
    "\n",
    "fig, data_plt = plt.subplots(nrows=1, ncols=3, figsize=(25,8))\n",
    "\n",
    "data_plt[0].axis(ymin=0,ymax=1)\n",
    "data_plt[0].set_xticks([1, 2, 3])\n",
    "data_plt[2].axis(ymin=0,ymax=1)\n",
    "data_plt[2].set_xticks([1, 2, 3])\n",
    "\n",
    "data_plt[0].plot([1,2,3], training_accuracies)\n",
    "data_plt[0].scatter([1,2,3], training_accuracies, c='red', s=100)\n",
    "\n",
    "data_plt[0].set_xlabel('Model Iteration')\n",
    "data_plt[0].set_ylabel('R2 Training Score')\n",
    "data_plt[0].set_title('Training Scores')\n",
    "\n",
    "data_plt[1].plot([1,2,3], test_accuracies)\n",
    "data_plt[1].scatter([1,2,3], test_accuracies, c='red', s=100)\n",
    "\n",
    "data_plt[1].set_title('Testing Scores')\n",
    "data_plt[1].set_xlabel('Model Iteration')\n",
    "data_plt[1].set_ylabel('R2 Testing Score')\n",
    "\n",
    "# We remove polynomial testing scores, as it is an outlier\n",
    "test_acc_clean = [linear_test_acc, tree_test_acc]\n",
    "data_plt[2].plot([1,3], test_acc_clean)\n",
    "data_plt[2].scatter([1,3], test_acc_clean, c='red', s=100)\n",
    "\n",
    "data_plt[2].set_title('Testing Scores - without Polynomial Regression')\n",
    "data_plt[2].set_xlabel('Model Iteration')\n",
    "data_plt[2].set_ylabel('R2 Testing Score')\n",
    "\n",
    "\n",
    "plt.show()"
   ]
  },
  {
   "cell_type": "markdown",
   "metadata": {},
   "source": [
    "By looking at the graphs above, we decide to choose the Linear Regression model for our QuAM software because it is the best generalized predictor since it has the best R2 score for the testing data."
   ]
  },
  {
   "cell_type": "markdown",
   "metadata": {},
   "source": [
    "### Future improvements"
   ]
  },
  {
   "cell_type": "markdown",
   "metadata": {},
   "source": [
    "#### What have we learnt about the real-estate market in Qatar?\n",
    "\n",
    "When looking at the factors that determine rental price of properties in the Qatari market, we have found that some factors are much more important than others. This is mostly true of Amenities offered, which seem only to grow in number when other, more important, factors increase - namely Bedrooms, Bathrooms, Size, availability of Maids' rooms, and Location, in that order. \n",
    "\n",
    "Given that the relationship found, however, is only around 55% accurate, we also conclude that prices do have a random element to them as well, such that a definite relationship in all the variables may not completely exist. This \"human\" element may explain the variance in the true labels.\n",
    "\n",
    "#### What could we do in the future to get even better accuracies? Why?\n",
    "\n",
    "Revealuating the importance of the features was something we would have liked to do, given more time.  \n",
    "Also, cleaning of the features was sometimes done in ways that were not very structured or systematic, and we would like to improve upon that.   \n",
    "We would also like to improve upon our models and their accuracies, by trying different paramaters and having cleaner, more optimized, data."
   ]
  }
 ],
 "metadata": {
  "kernelspec": {
   "display_name": "Python 3",
   "language": "python",
   "name": "python3"
  },
  "language_info": {
   "codemirror_mode": {
    "name": "ipython",
    "version": 3
   },
   "file_extension": ".py",
   "mimetype": "text/x-python",
   "name": "python",
   "nbconvert_exporter": "python",
   "pygments_lexer": "ipython3",
   "version": "3.7.6"
  }
 },
 "nbformat": 4,
 "nbformat_minor": 4
}
