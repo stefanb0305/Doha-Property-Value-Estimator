{
 "cells": [
  {
   "cell_type": "markdown",
   "metadata": {},
   "source": [
    "# Property Rental Value Estimator - a QuAM"
   ]
  },
  {
   "cell_type": "markdown",
   "metadata": {},
   "source": [
    "## Background"
   ]
  },
  {
   "cell_type": "code",
   "execution_count": 19,
   "metadata": {},
   "outputs": [],
   "source": [
    "# imports\n",
    "import ipywidgets as widgets\n",
    "from IPython.display import display\n",
    "from ipywidgets import GridBox, Layout, Label\n",
    "import pandas as pd\n",
    "from sklearn.linear_model import LinearRegression\n",
    "from functools import reduce"
   ]
  },
  {
   "cell_type": "code",
   "execution_count": 28,
   "metadata": {},
   "outputs": [
    {
     "data": {
      "text/plain": [
       "LinearRegression(copy_X=True, fit_intercept=True, n_jobs=None, normalize=False)"
      ]
     },
     "execution_count": 28,
     "metadata": {},
     "output_type": "execute_result"
    }
   ],
   "source": [
    "# load data and train model\n",
    "data = pd.read_csv(\"data_clean.csv\")\n",
    "features = data.iloc[:, :-1]\n",
    "targets = data.iloc[:, -1]\n",
    "regressor = LinearRegression()  \n",
    "regressor.fit(features, targets)"
   ]
  },
  {
   "cell_type": "code",
   "execution_count": 21,
   "metadata": {},
   "outputs": [],
   "source": [
    "# initialize variables\n",
    "Bedrooms_options = features[\"Bedrooms\"].unique()\n",
    "Bathrooms_options = features[\"Bathrooms\"].unique()\n",
    "Amenities_options = ['Balcony',\n",
    "                     'Barbecue Area',\n",
    "                     'Built in Wardrobes',\n",
    "                     'Central A/C',\n",
    "                     \"Children's Play Area\",\n",
    "                     \"Children's Pool\",\n",
    "                     'Concierge',\n",
    "                     'Covered Parking',\n",
    "                     'Kitchen Appliances',\n",
    "                     'Lobby in Building',\n",
    "                     'MD Properties',\n",
    "                     'Maid Service',\n",
    "                     'Maids Room',\n",
    "                     'Networked',\n",
    "                     'Pets Allowed',\n",
    "                     'Private Garden',\n",
    "                     'Private Gym',\n",
    "                     'Private Jacuzzi',\n",
    "                     'Private Pool',\n",
    "                     'Security',\n",
    "                     'Shared Gym',\n",
    "                     'Shared Pool',\n",
    "                     'Shared Spa',\n",
    "                     'Study',\n",
    "                     'View of Landmark',\n",
    "                     'View of Water',\n",
    "                     'Walk-in Closet']\n",
    "Type_options = ['Apartment', 'Villa', 'Hotel Apartments', 'Compound', 'Penthouse', 'Townhouse', 'Duplex']\n",
    "Type_options.sort()\n",
    "Furnishing_options = ['Furnished', 'Partly furnished', 'Unfurnished']\n",
    "Location_options = [ 'The Pearl',\n",
    "                     'West Bay',\n",
    "                     'Al Sadd',\n",
    "                     'Mesaimeer',\n",
    "                     'Ain Khaled',\n",
    "                     'Umm Salal Ali',\n",
    "                     'Salata',\n",
    "                     'Al Gharrafa',\n",
    "                     'West Bay Lagoon',\n",
    "                     'Al Ghanim',\n",
    "                     'Al Thumama',\n",
    "                     'Musheireb',\n",
    "                     'Izghawa',\n",
    "                     'Old Airport Road',\n",
    "                     'Fereej Abdul Aziz',\n",
    "                     'Corniche Road',\n",
    "                     'Al Aziziyah',\n",
    "                     'Umm Ghuwailina',\n",
    "                     'Al Waab',\n",
    "                     'Al Muntazah',\n",
    "                     'Al Mirqab',\n",
    "                     'Diplomats Area',\n",
    "                     'Al Sakhama',\n",
    "                     'Muaither Area',\n",
    "                     'Al Dafna',\n",
    "                     'Al Mirqab Al Jadeed',\n",
    "                     'Al Mansoura',\n",
    "                     'Mughalina',\n",
    "                     'Najma',\n",
    "                     'Al Nasr',\n",
    "                     'Al Maamoura',\n",
    "                     'Doha Al Jadeed',\n",
    "                     'Fereej Bin Mahmoud',\n",
    "                     'Hazm Al Markhiya',\n",
    "                     'Al Jasra',\n",
    "                     'Fereej Bin Omran',\n",
    "                     'Abu Hamour',\n",
    "                     'Al Rayyan',\n",
    "                     'Al Hilal',\n",
    "                     'Al Najada',\n",
    "                     'Rawdat Al Matar',\n",
    "                     'Jeliah',\n",
    "                     'Al Markhiya',\n",
    "                     'Salwa Road',\n",
    "                     'Umm Salal Mohammad',\n",
    "                     'Al Nuaija',\n",
    "                     'Al Duhail',\n",
    "                     'Al Messila',\n",
    "                     'Umm Al Seneem',\n",
    "                     'Madinat Khalifa',\n",
    "                     'Fereej Abdel Aziz',\n",
    "                     'Al Rawda',\n",
    "                     'Al Hitmi',\n",
    "                     'Airport Area',\n",
    "                     'Fereej Kulaib',\n",
    "                     'Msheireb Downtown Doha',\n",
    "                     'Barwa City',\n",
    "                     'AlMuraikh',\n",
    "                     'New Doha',\n",
    "                     'Al Luqta',\n",
    "                     'D-Ring',\n",
    "                     'E-Ring',\n",
    "                     'Al Soudan',\n",
    "                     'B-Ring Road',\n",
    "                     'Business District',\n",
    "                     'Ras Abu Aboud',\n",
    "                     'Wadi Al Sail',\n",
    "                     'Fereej Al Ali',\n",
    "                     'Esghawa',\n",
    "                     'Al Jebailat']\n",
    "Location_options.sort()"
   ]
  },
  {
   "cell_type": "markdown",
   "metadata": {},
   "source": [
    "### Pre-processing"
   ]
  },
  {
   "cell_type": "code",
   "execution_count": 22,
   "metadata": {},
   "outputs": [],
   "source": [
    "# prepare widgets\n",
    "beds = widgets.IntSlider(\n",
    "    min=Bedrooms_options[0],\n",
    "    max=Bedrooms_options[-1],\n",
    "    step=1,\n",
    "    description='Bedrooms:')\n",
    "\n",
    "baths = widgets.IntSlider(\n",
    "    min=Bathrooms_options[0],\n",
    "    max=Bathrooms_options[-1],\n",
    "    step=1,\n",
    "    description='Bathrooms:')\n",
    "\n",
    "size = widgets.IntText(\n",
    "    description='Size (sqm):',\n",
    "    value=125)\n",
    "\n",
    "all_amenities = []\n",
    "for am in Amenities_options:\n",
    "    w = widgets.Checkbox(description=am, layout=Layout(width='auto', height='auto'))\n",
    "    all_amenities.append(w)\n",
    "am_grid = GridBox(\n",
    "            children=all_amenities,\n",
    "            layout=Layout(\n",
    "                width='100%',\n",
    "                grid_template_columns='250px 250px 250px',\n",
    "                grid_template_rows='25px 25px 25px'))\n",
    "am_label = Label(\"Select your amenities:\")\n",
    "        \n",
    "locations = widgets.Dropdown(\n",
    "    options=Location_options,\n",
    "    value='The Pearl',\n",
    "    description='Location:')\n",
    "\n",
    "furnishings = widgets.RadioButtons(\n",
    "        options=Furnishing_options,\n",
    "        description='Furnishing:')\n",
    "\n",
    "types = widgets.Dropdown(\n",
    "    options=Type_options,\n",
    "    value='Apartment',\n",
    "    description='Type:')\n"
   ]
  },
  {
   "cell_type": "markdown",
   "metadata": {},
   "source": [
    "### Post-processing"
   ]
  },
  {
   "cell_type": "code",
   "execution_count": 23,
   "metadata": {},
   "outputs": [],
   "source": [
    "def get_prediction():\n",
    "    #making entry\n",
    "    entry = [size.value, beds.value, baths.value]\n",
    "    \n",
    "    am_bools = list(map(lambda b: b.value, all_amenities))\n",
    "    nr_of_amenities = reduce((lambda x, y: x + y), am_bools)\n",
    "    entry.append(nr_of_amenities)\n",
    "    \n",
    "    am_needed = ['Balcony', 'Built in Wardrobes', 'Maids Room', 'Private Garden']\n",
    "    amenities_needed = [am.value for am in all_amenities if am.description in am_needed]\n",
    "    amenities_needed_bool = list(map(lambda b: 1 if b else 0, amenities_needed))\n",
    "    entry += amenities_needed_bool\n",
    "    \n",
    "    types_bool = list(map(lambda t: 1 if t == types.value else 0, Type_options))\n",
    "    entry += types_bool\n",
    "    \n",
    "    furnishings_bool = list(map(lambda f: 1 if f == furnishings.value else 0, Furnishing_options))\n",
    "    entry += furnishings_bool\n",
    "    \n",
    "    locations_bool = list(map(lambda l: 1 if l == locations.value else 0, Location_options))\n",
    "    entry += locations_bool\n",
    "    \n",
    "    #making prediction\n",
    "    prediction = regressor.predict(pd.DataFrame([entry]))\n",
    "    \n",
    "    return(prediction[0])"
   ]
  },
  {
   "cell_type": "code",
   "execution_count": 24,
   "metadata": {},
   "outputs": [],
   "source": [
    "button = widgets.Button(description=\"Submit\")\n",
    "output = widgets.Output()\n",
    "\n",
    "def submitted(b):\n",
    "    pred = get_prediction()\n",
    "    with output:\n",
    "        print(\"Your property's value is estimated at:\", pred)\n",
    "\n",
    "button.on_click(submitted)"
   ]
  },
  {
   "cell_type": "markdown",
   "metadata": {},
   "source": [
    "## QuAM"
   ]
  },
  {
   "cell_type": "markdown",
   "metadata": {},
   "source": [
    "Please answer these following questions accurately and click the submit button so we can give you a precise estimation for the value of your property."
   ]
  },
  {
   "cell_type": "code",
   "execution_count": 25,
   "metadata": {
    "scrolled": true
   },
   "outputs": [
    {
     "data": {
      "application/vnd.jupyter.widget-view+json": {
       "model_id": "51c1ce79268949d5b4f2361ea9f8a853",
       "version_major": 2,
       "version_minor": 0
      },
      "text/plain": [
       "Dropdown(description='Type:', options=('Apartment', 'Compound', 'Duplex', 'Hotel Apartments', 'Penthouse', 'To…"
      ]
     },
     "metadata": {},
     "output_type": "display_data"
    },
    {
     "data": {
      "application/vnd.jupyter.widget-view+json": {
       "model_id": "765f0148d09641d99fdbf1138439be6b",
       "version_major": 2,
       "version_minor": 0
      },
      "text/plain": [
       "IntText(value=125, description='Size (sqm):')"
      ]
     },
     "metadata": {},
     "output_type": "display_data"
    },
    {
     "data": {
      "application/vnd.jupyter.widget-view+json": {
       "model_id": "1b563bfbdf424d658fa79deb1676d05f",
       "version_major": 2,
       "version_minor": 0
      },
      "text/plain": [
       "IntSlider(value=1, description='Bedrooms:', max=9, min=1)"
      ]
     },
     "metadata": {},
     "output_type": "display_data"
    },
    {
     "data": {
      "application/vnd.jupyter.widget-view+json": {
       "model_id": "dd44d1d0aa1c442d8e7e91fb1b606ee8",
       "version_major": 2,
       "version_minor": 0
      },
      "text/plain": [
       "IntSlider(value=1, description='Bathrooms:', max=8, min=1)"
      ]
     },
     "metadata": {},
     "output_type": "display_data"
    },
    {
     "data": {
      "application/vnd.jupyter.widget-view+json": {
       "model_id": "3b220ad436974960acd4bbc1387ebfc9",
       "version_major": 2,
       "version_minor": 0
      },
      "text/plain": [
       "RadioButtons(description='Furnishing:', options=('Furnished', 'Partly furnished', 'Unfurnished'), value='Furni…"
      ]
     },
     "metadata": {},
     "output_type": "display_data"
    },
    {
     "data": {
      "application/vnd.jupyter.widget-view+json": {
       "model_id": "aeb017af0c534c48bdcf061869617ae6",
       "version_major": 2,
       "version_minor": 0
      },
      "text/plain": [
       "Dropdown(description='Location:', index=62, options=('Abu Hamour', 'Ain Khaled', 'Airport Area', 'Al Aziziyah'…"
      ]
     },
     "metadata": {},
     "output_type": "display_data"
    }
   ],
   "source": [
    "display(types, size, beds, baths, furnishings, locations)"
   ]
  },
  {
   "cell_type": "code",
   "execution_count": 26,
   "metadata": {},
   "outputs": [
    {
     "data": {
      "application/vnd.jupyter.widget-view+json": {
       "model_id": "ea9dda411ecc49499936694430ddc914",
       "version_major": 2,
       "version_minor": 0
      },
      "text/plain": [
       "Label(value='Select your amenities:')"
      ]
     },
     "metadata": {},
     "output_type": "display_data"
    },
    {
     "data": {
      "application/vnd.jupyter.widget-view+json": {
       "model_id": "1b8be9104d574378b9b73d9349bb23a3",
       "version_major": 2,
       "version_minor": 0
      },
      "text/plain": [
       "GridBox(children=(Checkbox(value=False, description='Balcony', layout=Layout(height='auto', width='auto')), Ch…"
      ]
     },
     "metadata": {},
     "output_type": "display_data"
    }
   ],
   "source": [
    "display(am_label, am_grid)"
   ]
  },
  {
   "cell_type": "code",
   "execution_count": 27,
   "metadata": {},
   "outputs": [
    {
     "data": {
      "application/vnd.jupyter.widget-view+json": {
       "model_id": "7f92fd29906e4387958615677192c015",
       "version_major": 2,
       "version_minor": 0
      },
      "text/plain": [
       "Button(description='Submit', style=ButtonStyle())"
      ]
     },
     "metadata": {},
     "output_type": "display_data"
    },
    {
     "data": {
      "application/vnd.jupyter.widget-view+json": {
       "model_id": "d051d0d875134b759f202b2a60c561d6",
       "version_major": 2,
       "version_minor": 0
      },
      "text/plain": [
       "Output()"
      ]
     },
     "metadata": {},
     "output_type": "display_data"
    }
   ],
   "source": [
    "display(button, output)"
   ]
  }
 ],
 "metadata": {
  "kernelspec": {
   "display_name": "Python 3",
   "language": "python",
   "name": "python3"
  },
  "language_info": {
   "codemirror_mode": {
    "name": "ipython",
    "version": 3
   },
   "file_extension": ".py",
   "mimetype": "text/x-python",
   "name": "python",
   "nbconvert_exporter": "python",
   "pygments_lexer": "ipython3",
   "version": "3.7.6"
  }
 },
 "nbformat": 4,
 "nbformat_minor": 2
}
